{
 "cells": [
  {
   "cell_type": "code",
   "execution_count": 76,
   "metadata": {},
   "outputs": [
    {
     "name": "stdout",
     "output_type": "stream",
     "text": [
      "Sherry\n",
      "Sohail\n",
      "Mohsin\n",
      "Nouman\n",
      "Umair\n",
      "Khurram\n"
     ]
    }
   ],
   "source": [
    "names: list = ['Sherry', 'Sohail', 'Mohsin', 'Nouman', 'Umair', 'Khurram']\n",
    "print(names[0])\n",
    "print(names[1])\n",
    "print(names[2])\n",
    "print(names[3])\n",
    "print(names[4])\n",
    "print(names[5])"
   ]
  },
  {
   "cell_type": "code",
   "execution_count": 78,
   "metadata": {},
   "outputs": [
    {
     "name": "stdout",
     "output_type": "stream",
     "text": [
      "Sherry, you are invited to the dinner.\n",
      "Sohail, you are invited to the dinner.\n",
      "Mohsin, you are invited to the dinner.\n",
      "Nouman, you are invited to the dinner.\n",
      "Umair, you are invited to the dinner.\n",
      "Khurram, you are invited to the dinner.\n"
     ]
    }
   ],
   "source": [
    "print(f'{names[0]}, you are invited to the dinner.')\n",
    "print(f'{names[1]}, you are invited to the dinner.')\n",
    "print(f'{names[2]}, you are invited to the dinner.')\n",
    "print(f'{names[3]}, you are invited to the dinner.')\n",
    "print(f'{names[4]}, you are invited to the dinner.')\n",
    "print(f'{names[5]}, you are invited to the dinner.')\n"
   ]
  }
 ],
 "metadata": {
  "kernelspec": {
   "display_name": "Python 3",
   "language": "python",
   "name": "python3"
  },
  "language_info": {
   "codemirror_mode": {
    "name": "ipython",
    "version": 3
   },
   "file_extension": ".py",
   "mimetype": "text/x-python",
   "name": "python",
   "nbconvert_exporter": "python",
   "pygments_lexer": "ipython3",
   "version": "undefined.undefined.undefined"
  }
 },
 "nbformat": 4,
 "nbformat_minor": 2
}
