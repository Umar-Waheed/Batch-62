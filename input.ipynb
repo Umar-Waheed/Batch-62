{
 "cells": [
  {
   "cell_type": "code",
   "execution_count": 1,
   "metadata": {},
   "outputs": [
    {
     "name": "stdout",
     "output_type": "stream",
     "text": [
      "55\n",
      "55\n",
      "55\n",
      "455\n"
     ]
    }
   ],
   "source": [
    "num1 = input(\"Enter 1st number\")\n",
    "num2 = input(\"Enter 2nd number\")\n",
    "num3 = input(\"Enter 3rd number\")\n",
    "num4 = input(\"Enter 4th number\")\n",
    "print(num1)\n",
    "print(num2)\n",
    "print(num3)\n",
    "print(num4)"
   ]
  },
  {
   "cell_type": "code",
   "execution_count": 5,
   "metadata": {},
   "outputs": [
    {
     "name": "stdout",
     "output_type": "stream",
     "text": [
      "You are failed!\n",
      "Welcome\n"
     ]
    }
   ],
   "source": [
    "marks = int(input(\"Please enter your marks: \"))\n",
    "if marks >= 33:\n",
    "    print(\"You are passed!\")\n",
    "else:\n",
    "    print(\"You are failed!\")\n",
    "print(\"Welcome\")\n"
   ]
  },
  {
   "cell_type": "code",
   "execution_count": 2,
   "metadata": {},
   "outputs": [
    {
     "name": "stdout",
     "output_type": "stream",
     "text": [
      "Total sum of the both numbers are 65\n"
     ]
    }
   ],
   "source": [
    "num1 = int(input(\"Please enter the first number:\"))\n",
    "num2 = int(input(\"Please enter the first number:\"))\n",
    "sum = num1 + num2\n",
    "print(f\"Total sum of the both numbers are {sum}\")"
   ]
  },
  {
   "cell_type": "code",
   "execution_count": 4,
   "metadata": {},
   "outputs": [
    {
     "name": "stdout",
     "output_type": "stream",
     "text": [
      "My favorite animal is also Cat.\n"
     ]
    }
   ],
   "source": [
    "value1 = str(input('What is your favorite animal?'))\n",
    "print(f\"My favorite animal is also {value1}.\")"
   ]
  },
  {
   "cell_type": "code",
   "execution_count": 6,
   "metadata": {},
   "outputs": [
    {
     "name": "stdout",
     "output_type": "stream",
     "text": [
      "Temperature: 76.0 = 24.444444444444443\n"
     ]
    }
   ],
   "source": [
    "degrees_fahrenheit = float(input(\"Please enter the temperature in Fahrenheit:\"))\n",
    "degrees_celsius = (degrees_fahrenheit - 32)*5.0/9.0\n",
    "print(f\"Temperature: {degrees_fahrenheit} = {degrees_celsius}\")"
   ]
  },
  {
   "cell_type": "code",
   "execution_count": 7,
   "metadata": {},
   "outputs": [
    {
     "name": "stdout",
     "output_type": "stream",
     "text": [
      "The perimeter of the triangle is 12.5.\n"
     ]
    }
   ],
   "source": [
    "side1 = float(input(\"What is the value of side 1?\"))\n",
    "side2 = float(input(\"What is the value of side 2?\"))\n",
    "side3 = float(input(\"What is the value of side 3?\"))\n",
    "add = side1 + side2 + side3\n",
    "print(f\"The perimeter of the triangle is {add}.\")"
   ]
  },
  {
   "cell_type": "code",
   "execution_count": 8,
   "metadata": {},
   "outputs": [
    {
     "name": "stdout",
     "output_type": "stream",
     "text": [
      "5.0 squared is 25.0.\n"
     ]
    }
   ],
   "source": [
    "amount = float(input(\"Type a number to see its square: \"))\n",
    "multiply = amount*amount\n",
    "print(f\"{amount} squared is {multiply}.\")"
   ]
  }
 ],
 "metadata": {
  "kernelspec": {
   "display_name": "Python 3",
   "language": "python",
   "name": "python3"
  },
  "language_info": {
   "codemirror_mode": {
    "name": "ipython",
    "version": 3
   },
   "file_extension": ".py",
   "mimetype": "text/x-python",
   "name": "python",
   "nbconvert_exporter": "python",
   "pygments_lexer": "ipython3",
   "version": "undefined.undefined.undefined"
  }
 },
 "nbformat": 4,
 "nbformat_minor": 2
}
